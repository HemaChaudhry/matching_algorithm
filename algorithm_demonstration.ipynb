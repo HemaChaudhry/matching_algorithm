{
 "cells": [
  {
   "cell_type": "markdown",
   "metadata": {},
   "source": [
    "<p><a name=\"INTRO\"></a></p>\n",
    "# MATCHING ALGORITHM DEMONSTRATION\n",
    "\n",
    "- <a href=\"#packages\">Load packages</a><br>\n",
    "- <a href=\"#data\">Load Cleaned Data into Python</a><br>\n",
    "- <a href=\"#sample\">Sample Input</a><br>\n",
    "- <a href=\"#matching intialization\">Load Data into Matching Algorithm</a><br>\n",
    "- <a href=\"#algorithm\">Default Algorithm</a><br>\n",
    "- <a href=\"#Parameters\">Tuning Parameters</a><br>\n",
    "- <a href=\"#matrix\">Table of all matches</a><br>\n",
    "- <a href=\"#conclusion\">Conclusion</a><br>"
   ]
  },
  {
   "cell_type": "markdown",
   "metadata": {},
   "source": [
    "<p><a name=\"packages\"></a></p>\n",
    "### Load Packages\n",
    "\n",
    "Load necessary packages to run algorithm\n",
    "\n",
    "\n",
    "\n"
   ]
  },
  {
   "cell_type": "code",
   "execution_count": 1,
   "metadata": {},
   "outputs": [],
   "source": [
    "import BBGMatching\n",
    "import pandas as pd\n",
    "import numpy as np\n",
    "import collections\n",
    "import re\n",
    "from matplotlib import pyplot as plt\n",
    "plt.style.use('ggplot')\n",
    "%matplotlib inline\n",
    "import seaborn as sns\n",
    "import time"
   ]
  },
  {
   "cell_type": "markdown",
   "metadata": {},
   "source": [
    "<p><a name=\"data\"></a></p>\n",
    "### Load Cleaned Data into Python\n",
    "Make sure the notebook is in the same folder as the files from the cleaning script. Then load the data into python by writing the file pathname with the extension(.csv) in parentheses"
   ]
  },
  {
   "cell_type": "code",
   "execution_count": 2,
   "metadata": {
    "collapsed": true
   },
   "outputs": [],
   "source": [
    "users_students_input = pd.read_csv('users_students_input.csv')\n",
    "users_prof_input = pd.read_csv('users_prof_input.csv')\n",
    "matches_input=pd.read_csv('matches_input.csv')\n"
   ]
  },
  {
   "cell_type": "markdown",
   "metadata": {},
   "source": [
    "<font color = Red> **BELOW IS CODE JUST ADDITIONAL CODE TO RUN THE SAMPLE DEMONSTRATION**</font>\n"
   ]
  },
  {
   "cell_type": "code",
   "execution_count": 3,
   "metadata": {},
   "outputs": [],
   "source": [
    "matches_test = matches_input.loc[matches_input['wave_number']==4]\n",
    "users_students_test = pd.merge(users_students_input, matches_test, how ='inner', on = 'advisee_nyc_id')\n",
    "users_students_input1 = users_students_test[users_students_input.columns]\n",
    "users_prof_test = pd.merge(users_prof_input, matches_test, how ='inner', on = 'advisor_nyc_id')\n",
    "users_prof_input1 = users_prof_test[users_prof_input.columns]\n",
    "users_prof_test.shape\n",
    "matches_input1= matches_input.loc[matches_input['wave_number']!=4]\n",
    "matches_input1= matches_input1.assign(sessiontopic ='none')\n"
   ]
  },
  {
   "cell_type": "code",
   "execution_count": 4,
   "metadata": {},
   "outputs": [
    {
     "data": {
      "text/html": [
       "<div>\n",
       "<style scoped>\n",
       "    .dataframe tbody tr th:only-of-type {\n",
       "        vertical-align: middle;\n",
       "    }\n",
       "\n",
       "    .dataframe tbody tr th {\n",
       "        vertical-align: top;\n",
       "    }\n",
       "\n",
       "    .dataframe thead th {\n",
       "        text-align: right;\n",
       "    }\n",
       "</style>\n",
       "<table border=\"1\" class=\"dataframe\">\n",
       "  <thead>\n",
       "    <tr style=\"text-align: right;\">\n",
       "      <th></th>\n",
       "      <th>wave_number</th>\n",
       "      <th>advisee_nyc_id</th>\n",
       "      <th>advisor_nyc_id</th>\n",
       "      <th>sessiontopic</th>\n",
       "    </tr>\n",
       "  </thead>\n",
       "  <tbody>\n",
       "  </tbody>\n",
       "</table>\n",
       "</div>"
      ],
      "text/plain": [
       "Empty DataFrame\n",
       "Columns: [wave_number, advisee_nyc_id, advisor_nyc_id, sessiontopic]\n",
       "Index: []"
      ]
     },
     "execution_count": 4,
     "metadata": {},
     "output_type": "execute_result"
    }
   ],
   "source": [
    "matches_input1.loc[matches_input1['advisee_nyc_id']== 1529935]"
   ]
  },
  {
   "cell_type": "markdown",
   "metadata": {},
   "source": [
    "<font color = Red> In short, the above code is necessary for the demonstration because the data given to us were all the waves, but for future matches you will only have one wave at a time, and the students in this wave will not have information in the data on the history of matches</font>\n"
   ]
  },
  {
   "cell_type": "markdown",
   "metadata": {},
   "source": [
    "<p><a name=\"sample\"></a></p>\n",
    "### Sample Data Input\n",
    "\n",
    "Below is a what the format of what the inputs should look like. What is important is that the input have the columns below with the exact same column heading. Additional columns will not break the algorithm, but it will just not contribute to the match"
   ]
  },
  {
   "cell_type": "markdown",
   "metadata": {},
   "source": [
    "** Student Data **"
   ]
  },
  {
   "cell_type": "code",
   "execution_count": 5,
   "metadata": {
    "scrolled": true
   },
   "outputs": [
    {
     "data": {
      "text/html": [
       "<div>\n",
       "<style scoped>\n",
       "    .dataframe tbody tr th:only-of-type {\n",
       "        vertical-align: middle;\n",
       "    }\n",
       "\n",
       "    .dataframe tbody tr th {\n",
       "        vertical-align: top;\n",
       "    }\n",
       "\n",
       "    .dataframe thead th {\n",
       "        text-align: right;\n",
       "    }\n",
       "</style>\n",
       "<table border=\"1\" class=\"dataframe\">\n",
       "  <thead>\n",
       "    <tr style=\"text-align: right;\">\n",
       "      <th></th>\n",
       "      <th>stud_experience_o</th>\n",
       "      <th>wave</th>\n",
       "      <th>stud_region</th>\n",
       "      <th>stud_waveUserStatus</th>\n",
       "      <th>stud_location</th>\n",
       "      <th>stud_topic</th>\n",
       "      <th>stud_wave_number_joined</th>\n",
       "      <th>stud_tech</th>\n",
       "      <th>stud_ind</th>\n",
       "      <th>personality</th>\n",
       "      <th>...</th>\n",
       "      <th>industry2</th>\n",
       "      <th>industry3</th>\n",
       "      <th>techtype1</th>\n",
       "      <th>techtype2</th>\n",
       "      <th>techtype3</th>\n",
       "      <th>topic1</th>\n",
       "      <th>topic2</th>\n",
       "      <th>topic3</th>\n",
       "      <th>stud_str_combined</th>\n",
       "      <th>stud_str_combined1</th>\n",
       "    </tr>\n",
       "  </thead>\n",
       "  <tbody>\n",
       "    <tr>\n",
       "      <th>0</th>\n",
       "      <td>0</td>\n",
       "      <td>4</td>\n",
       "      <td>other</td>\n",
       "      <td>active</td>\n",
       "      <td>Somewhere else</td>\n",
       "      <td>{'Storytelling/Brand', 'Product Management', '...</td>\n",
       "      <td>3</td>\n",
       "      <td>{'Web', 'Mobile App', 'Video'}</td>\n",
       "      <td>{'Music', 'Government &amp; Politics', 'Travel'}</td>\n",
       "      <td>Introvert</td>\n",
       "      <td>...</td>\n",
       "      <td>Travel</td>\n",
       "      <td>Music</td>\n",
       "      <td>Web</td>\n",
       "      <td>Mobile App</td>\n",
       "      <td>Video</td>\n",
       "      <td>Media/Content</td>\n",
       "      <td>Storytelling/Brand</td>\n",
       "      <td>Product Management</td>\n",
       "      <td>management|instagram|media/content|web|video|p...</td>\n",
       "      <td>['management', 'instagram', 'media/content', '...</td>\n",
       "    </tr>\n",
       "    <tr>\n",
       "      <th>1</th>\n",
       "      <td>1</td>\n",
       "      <td>4</td>\n",
       "      <td>East/Midwest</td>\n",
       "      <td>active</td>\n",
       "      <td>New York City</td>\n",
       "      <td>{'Hardware', 'Virtual Reality', 'Mobile App'}</td>\n",
       "      <td>1</td>\n",
       "      <td>{'Virtual Reality', 'Software', 'Mobile App'}</td>\n",
       "      <td>{'Health &amp; Wellness', 'Education', 'DIY'}</td>\n",
       "      <td>Ambivert</td>\n",
       "      <td>...</td>\n",
       "      <td>Education</td>\n",
       "      <td>Health &amp; Wellness</td>\n",
       "      <td>Mobile App</td>\n",
       "      <td>Software</td>\n",
       "      <td>Virtual Reality</td>\n",
       "      <td>Hardware</td>\n",
       "      <td>Mobile App</td>\n",
       "      <td>Virtual Reality</td>\n",
       "      <td>diy|hardware|software|duolingo|coding|health|r...</td>\n",
       "      <td>['diy', 'hardware', 'software', 'duolingo', 'c...</td>\n",
       "    </tr>\n",
       "    <tr>\n",
       "      <th>2</th>\n",
       "      <td>2</td>\n",
       "      <td>4</td>\n",
       "      <td>other</td>\n",
       "      <td>active</td>\n",
       "      <td>Somewhere else</td>\n",
       "      <td>{'UX/UI', 'Engineering - Mobile', 'Engineering...</td>\n",
       "      <td>4</td>\n",
       "      <td>{'Web', 'Software', 'Mobile App'}</td>\n",
       "      <td>{'Sports', 'Food', 'Media &amp; Entertainment'}</td>\n",
       "      <td>Ambivert</td>\n",
       "      <td>...</td>\n",
       "      <td>Food</td>\n",
       "      <td>Sports</td>\n",
       "      <td>Mobile App</td>\n",
       "      <td>Software</td>\n",
       "      <td>Web</td>\n",
       "      <td>UX/UI</td>\n",
       "      <td>Engineering - Mobile</td>\n",
       "      <td>Engineering - Front End</td>\n",
       "      <td>recently|engineering|food|end|web|front|ux/ui|...</td>\n",
       "      <td>['recently', 'engineering', 'food', 'end', 'we...</td>\n",
       "    </tr>\n",
       "    <tr>\n",
       "      <th>3</th>\n",
       "      <td>2</td>\n",
       "      <td>4</td>\n",
       "      <td>West</td>\n",
       "      <td>active</td>\n",
       "      <td>Los Angeles</td>\n",
       "      <td>{'UX/UI', 'Engineering - Mobile', 'Engineering...</td>\n",
       "      <td>4</td>\n",
       "      <td>{'Virtual Reality', 'Robotics', 'Mobile App'}</td>\n",
       "      <td>{'Energy', 'Gaming', 'Technology'}</td>\n",
       "      <td>Extrovert</td>\n",
       "      <td>...</td>\n",
       "      <td>Energy</td>\n",
       "      <td>Gaming</td>\n",
       "      <td>Mobile App</td>\n",
       "      <td>Robotics</td>\n",
       "      <td>Virtual Reality</td>\n",
       "      <td>Engineering - Front End</td>\n",
       "      <td>Engineering - Mobile</td>\n",
       "      <td>UX/UI</td>\n",
       "      <td>engineering|netflix|development|gaming|end|tra...</td>\n",
       "      <td>['engineering', 'netflix', 'development', 'gam...</td>\n",
       "    </tr>\n",
       "    <tr>\n",
       "      <th>4</th>\n",
       "      <td>2</td>\n",
       "      <td>4</td>\n",
       "      <td>West</td>\n",
       "      <td>active</td>\n",
       "      <td>San Francisco</td>\n",
       "      <td>{'Product Management', 'Business Model', 'Engi...</td>\n",
       "      <td>4</td>\n",
       "      <td>{'Web', 'Virtual Reality', 'Mobile App'}</td>\n",
       "      <td>{'Music', 'VC', 'Technology'}</td>\n",
       "      <td>Ambivert</td>\n",
       "      <td>...</td>\n",
       "      <td>VC</td>\n",
       "      <td>Music</td>\n",
       "      <td>Mobile App</td>\n",
       "      <td>Virtual Reality</td>\n",
       "      <td>Web</td>\n",
       "      <td>Engineering - Front End</td>\n",
       "      <td>Product Management</td>\n",
       "      <td>Business Model</td>\n",
       "      <td>management|engineering|black|end|web|front|mod...</td>\n",
       "      <td>['management', 'engineering', 'black', 'end', ...</td>\n",
       "    </tr>\n",
       "  </tbody>\n",
       "</table>\n",
       "<p>5 rows × 31 columns</p>\n",
       "</div>"
      ],
      "text/plain": [
       "   stud_experience_o  wave   stud_region stud_waveUserStatus   stud_location  \\\n",
       "0                  0     4         other              active  Somewhere else   \n",
       "1                  1     4  East/Midwest              active   New York City   \n",
       "2                  2     4         other              active  Somewhere else   \n",
       "3                  2     4          West              active     Los Angeles   \n",
       "4                  2     4          West              active   San Francisco   \n",
       "\n",
       "                                          stud_topic  stud_wave_number_joined  \\\n",
       "0  {'Storytelling/Brand', 'Product Management', '...                        3   \n",
       "1      {'Hardware', 'Virtual Reality', 'Mobile App'}                        1   \n",
       "2  {'UX/UI', 'Engineering - Mobile', 'Engineering...                        4   \n",
       "3  {'UX/UI', 'Engineering - Mobile', 'Engineering...                        4   \n",
       "4  {'Product Management', 'Business Model', 'Engi...                        4   \n",
       "\n",
       "                                       stud_tech  \\\n",
       "0                 {'Web', 'Mobile App', 'Video'}   \n",
       "1  {'Virtual Reality', 'Software', 'Mobile App'}   \n",
       "2              {'Web', 'Software', 'Mobile App'}   \n",
       "3  {'Virtual Reality', 'Robotics', 'Mobile App'}   \n",
       "4       {'Web', 'Virtual Reality', 'Mobile App'}   \n",
       "\n",
       "                                       stud_ind personality  \\\n",
       "0  {'Music', 'Government & Politics', 'Travel'}   Introvert   \n",
       "1     {'Health & Wellness', 'Education', 'DIY'}    Ambivert   \n",
       "2   {'Sports', 'Food', 'Media & Entertainment'}    Ambivert   \n",
       "3            {'Energy', 'Gaming', 'Technology'}   Extrovert   \n",
       "4                 {'Music', 'VC', 'Technology'}    Ambivert   \n",
       "\n",
       "                         ...                          industry2  \\\n",
       "0                        ...                             Travel   \n",
       "1                        ...                          Education   \n",
       "2                        ...                               Food   \n",
       "3                        ...                             Energy   \n",
       "4                        ...                                 VC   \n",
       "\n",
       "           industry3   techtype1        techtype2        techtype3  \\\n",
       "0              Music         Web       Mobile App            Video   \n",
       "1  Health & Wellness  Mobile App         Software  Virtual Reality   \n",
       "2             Sports  Mobile App         Software              Web   \n",
       "3             Gaming  Mobile App         Robotics  Virtual Reality   \n",
       "4              Music  Mobile App  Virtual Reality              Web   \n",
       "\n",
       "                    topic1                topic2                   topic3  \\\n",
       "0            Media/Content    Storytelling/Brand       Product Management   \n",
       "1                 Hardware            Mobile App          Virtual Reality   \n",
       "2                    UX/UI  Engineering - Mobile  Engineering - Front End   \n",
       "3  Engineering - Front End  Engineering - Mobile                    UX/UI   \n",
       "4  Engineering - Front End    Product Management           Business Model   \n",
       "\n",
       "                                   stud_str_combined  \\\n",
       "0  management|instagram|media/content|web|video|p...   \n",
       "1  diy|hardware|software|duolingo|coding|health|r...   \n",
       "2  recently|engineering|food|end|web|front|ux/ui|...   \n",
       "3  engineering|netflix|development|gaming|end|tra...   \n",
       "4  management|engineering|black|end|web|front|mod...   \n",
       "\n",
       "                                  stud_str_combined1  \n",
       "0  ['management', 'instagram', 'media/content', '...  \n",
       "1  ['diy', 'hardware', 'software', 'duolingo', 'c...  \n",
       "2  ['recently', 'engineering', 'food', 'end', 'we...  \n",
       "3  ['engineering', 'netflix', 'development', 'gam...  \n",
       "4  ['management', 'engineering', 'black', 'end', ...  \n",
       "\n",
       "[5 rows x 31 columns]"
      ]
     },
     "execution_count": 5,
     "metadata": {},
     "output_type": "execute_result"
    }
   ],
   "source": [
    "users_students_input1.head()"
   ]
  },
  {
   "cell_type": "markdown",
   "metadata": {},
   "source": [
    "** Mentor Data**"
   ]
  },
  {
   "cell_type": "code",
   "execution_count": 6,
   "metadata": {},
   "outputs": [
    {
     "data": {
      "text/html": [
       "<div>\n",
       "<style scoped>\n",
       "    .dataframe tbody tr th:only-of-type {\n",
       "        vertical-align: middle;\n",
       "    }\n",
       "\n",
       "    .dataframe tbody tr th {\n",
       "        vertical-align: top;\n",
       "    }\n",
       "\n",
       "    .dataframe thead th {\n",
       "        text-align: right;\n",
       "    }\n",
       "</style>\n",
       "<table border=\"1\" class=\"dataframe\">\n",
       "  <thead>\n",
       "    <tr style=\"text-align: right;\">\n",
       "      <th></th>\n",
       "      <th>prof_experience_o</th>\n",
       "      <th>prof_region</th>\n",
       "      <th>prof_waveUserStatus</th>\n",
       "      <th>prof_is_vip</th>\n",
       "      <th>prof_location</th>\n",
       "      <th>prof_topic</th>\n",
       "      <th>prof_techtype1</th>\n",
       "      <th>prof_wave_number_joined</th>\n",
       "      <th>prof_topic1</th>\n",
       "      <th>prof_topic2</th>\n",
       "      <th>...</th>\n",
       "      <th>industry2</th>\n",
       "      <th>industry3</th>\n",
       "      <th>techtype1</th>\n",
       "      <th>techtype2</th>\n",
       "      <th>techtype3</th>\n",
       "      <th>topic1</th>\n",
       "      <th>topic2</th>\n",
       "      <th>topic3</th>\n",
       "      <th>prof_str_combined</th>\n",
       "      <th>prof_str_combined1</th>\n",
       "    </tr>\n",
       "  </thead>\n",
       "  <tbody>\n",
       "    <tr>\n",
       "      <th>0</th>\n",
       "      <td>2</td>\n",
       "      <td>East/Midwest</td>\n",
       "      <td>active</td>\n",
       "      <td>N</td>\n",
       "      <td>New York City</td>\n",
       "      <td>['Engineering - Mobile', 'Engineering - Back E...</td>\n",
       "      <td>Mobile App</td>\n",
       "      <td>4</td>\n",
       "      <td>Engineering - Mobile</td>\n",
       "      <td>Engineering - Back End</td>\n",
       "      <td>...</td>\n",
       "      <td>NaN</td>\n",
       "      <td>NaN</td>\n",
       "      <td>Mobile App</td>\n",
       "      <td>NaN</td>\n",
       "      <td>NaN</td>\n",
       "      <td>Engineering - Mobile</td>\n",
       "      <td>Engineering - Back End</td>\n",
       "      <td>NaN</td>\n",
       "      <td>finance|venmo|figure|squarespace|instagram|eng...</td>\n",
       "      <td>['finance', 'venmo', 'figure', 'squarespace', ...</td>\n",
       "    </tr>\n",
       "    <tr>\n",
       "      <th>1</th>\n",
       "      <td>2</td>\n",
       "      <td>East/Midwest</td>\n",
       "      <td>active</td>\n",
       "      <td>Y</td>\n",
       "      <td>New York City</td>\n",
       "      <td>['Business Operations', 'Business Model', 'Med...</td>\n",
       "      <td>Software</td>\n",
       "      <td>1</td>\n",
       "      <td>Business Operations</td>\n",
       "      <td>Business Model</td>\n",
       "      <td>...</td>\n",
       "      <td>NaN</td>\n",
       "      <td>NaN</td>\n",
       "      <td>Software</td>\n",
       "      <td>NaN</td>\n",
       "      <td>NaN</td>\n",
       "      <td>Business Operations</td>\n",
       "      <td>Business Model</td>\n",
       "      <td>Media - Content</td>\n",
       "      <td>content|skincare|model|software|finding|entert...</td>\n",
       "      <td>['content', 'skincare', 'model', 'software', '...</td>\n",
       "    </tr>\n",
       "    <tr>\n",
       "      <th>2</th>\n",
       "      <td>2</td>\n",
       "      <td>East/Midwest</td>\n",
       "      <td>active</td>\n",
       "      <td>N</td>\n",
       "      <td>New York City</td>\n",
       "      <td>['Data/Analytics', 'Storytelling/Brand', 'Medi...</td>\n",
       "      <td>Twitter</td>\n",
       "      <td>2</td>\n",
       "      <td>Data/Analytics</td>\n",
       "      <td>Storytelling/Brand</td>\n",
       "      <td>...</td>\n",
       "      <td>NaN</td>\n",
       "      <td>NaN</td>\n",
       "      <td>Twitter</td>\n",
       "      <td>NaN</td>\n",
       "      <td>NaN</td>\n",
       "      <td>Data/Analytics</td>\n",
       "      <td>Storytelling/Brand</td>\n",
       "      <td>Media/Content</td>\n",
       "      <td>twitter|media/content|podcasts|musical|balance...</td>\n",
       "      <td>['twitter', 'media/content', 'podcasts', 'musi...</td>\n",
       "    </tr>\n",
       "    <tr>\n",
       "      <th>3</th>\n",
       "      <td>2</td>\n",
       "      <td>East/Midwest</td>\n",
       "      <td>active</td>\n",
       "      <td>N</td>\n",
       "      <td>New York City</td>\n",
       "      <td>['Data/Analytics', 'Engineering - Back End', '']</td>\n",
       "      <td>Mobile App</td>\n",
       "      <td>4</td>\n",
       "      <td>Data/Analytics</td>\n",
       "      <td>Engineering - Back End</td>\n",
       "      <td>...</td>\n",
       "      <td>NaN</td>\n",
       "      <td>NaN</td>\n",
       "      <td>Mobile App</td>\n",
       "      <td>NaN</td>\n",
       "      <td>NaN</td>\n",
       "      <td>Data/Analytics</td>\n",
       "      <td>Engineering - Back End</td>\n",
       "      <td>NaN</td>\n",
       "      <td>management|listening|reading|engineering|music...</td>\n",
       "      <td>['management', 'listening', 'reading', 'engine...</td>\n",
       "    </tr>\n",
       "    <tr>\n",
       "      <th>4</th>\n",
       "      <td>2</td>\n",
       "      <td>East/Midwest</td>\n",
       "      <td>active</td>\n",
       "      <td>Y</td>\n",
       "      <td>New York City</td>\n",
       "      <td>['Media/Content', 'Business Operations', 'Grow...</td>\n",
       "      <td>Web</td>\n",
       "      <td>3</td>\n",
       "      <td>Media/Content</td>\n",
       "      <td>Business Operations</td>\n",
       "      <td>...</td>\n",
       "      <td>NaN</td>\n",
       "      <td>NaN</td>\n",
       "      <td>Web</td>\n",
       "      <td>NaN</td>\n",
       "      <td>NaN</td>\n",
       "      <td>Media/Content</td>\n",
       "      <td>Business Operations</td>\n",
       "      <td>Growth Levers</td>\n",
       "      <td>game|instagram|media/content|bustle|business|g...</td>\n",
       "      <td>['game', 'instagram', 'media/content', 'bustle...</td>\n",
       "    </tr>\n",
       "  </tbody>\n",
       "</table>\n",
       "<p>5 rows × 33 columns</p>\n",
       "</div>"
      ],
      "text/plain": [
       "   prof_experience_o   prof_region prof_waveUserStatus prof_is_vip  \\\n",
       "0                  2  East/Midwest              active           N   \n",
       "1                  2  East/Midwest              active           Y   \n",
       "2                  2  East/Midwest              active           N   \n",
       "3                  2  East/Midwest              active           N   \n",
       "4                  2  East/Midwest              active           Y   \n",
       "\n",
       "   prof_location                                         prof_topic  \\\n",
       "0  New York City  ['Engineering - Mobile', 'Engineering - Back E...   \n",
       "1  New York City  ['Business Operations', 'Business Model', 'Med...   \n",
       "2  New York City  ['Data/Analytics', 'Storytelling/Brand', 'Medi...   \n",
       "3  New York City   ['Data/Analytics', 'Engineering - Back End', '']   \n",
       "4  New York City  ['Media/Content', 'Business Operations', 'Grow...   \n",
       "\n",
       "  prof_techtype1  prof_wave_number_joined           prof_topic1  \\\n",
       "0     Mobile App                        4  Engineering - Mobile   \n",
       "1       Software                        1   Business Operations   \n",
       "2        Twitter                        2        Data/Analytics   \n",
       "3     Mobile App                        4        Data/Analytics   \n",
       "4            Web                        3         Media/Content   \n",
       "\n",
       "              prof_topic2                        ...                          \\\n",
       "0  Engineering - Back End                        ...                           \n",
       "1          Business Model                        ...                           \n",
       "2      Storytelling/Brand                        ...                           \n",
       "3  Engineering - Back End                        ...                           \n",
       "4     Business Operations                        ...                           \n",
       "\n",
       "  industry2 industry3   techtype1 techtype2 techtype3                topic1  \\\n",
       "0       NaN       NaN  Mobile App       NaN       NaN  Engineering - Mobile   \n",
       "1       NaN       NaN    Software       NaN       NaN   Business Operations   \n",
       "2       NaN       NaN     Twitter       NaN       NaN        Data/Analytics   \n",
       "3       NaN       NaN  Mobile App       NaN       NaN        Data/Analytics   \n",
       "4       NaN       NaN         Web       NaN       NaN         Media/Content   \n",
       "\n",
       "                   topic2           topic3  \\\n",
       "0  Engineering - Back End              NaN   \n",
       "1          Business Model  Media - Content   \n",
       "2      Storytelling/Brand    Media/Content   \n",
       "3  Engineering - Back End              NaN   \n",
       "4     Business Operations    Growth Levers   \n",
       "\n",
       "                                   prof_str_combined  \\\n",
       "0  finance|venmo|figure|squarespace|instagram|eng...   \n",
       "1  content|skincare|model|software|finding|entert...   \n",
       "2  twitter|media/content|podcasts|musical|balance...   \n",
       "3  management|listening|reading|engineering|music...   \n",
       "4  game|instagram|media/content|bustle|business|g...   \n",
       "\n",
       "                                  prof_str_combined1  \n",
       "0  ['finance', 'venmo', 'figure', 'squarespace', ...  \n",
       "1  ['content', 'skincare', 'model', 'software', '...  \n",
       "2  ['twitter', 'media/content', 'podcasts', 'musi...  \n",
       "3  ['management', 'listening', 'reading', 'engine...  \n",
       "4  ['game', 'instagram', 'media/content', 'bustle...  \n",
       "\n",
       "[5 rows x 33 columns]"
      ]
     },
     "execution_count": 6,
     "metadata": {},
     "output_type": "execute_result"
    }
   ],
   "source": [
    "users_prof_input1.head()"
   ]
  },
  {
   "cell_type": "markdown",
   "metadata": {},
   "source": [
    "** Matching Data**"
   ]
  },
  {
   "cell_type": "code",
   "execution_count": 7,
   "metadata": {},
   "outputs": [
    {
     "data": {
      "text/html": [
       "<div>\n",
       "<style scoped>\n",
       "    .dataframe tbody tr th:only-of-type {\n",
       "        vertical-align: middle;\n",
       "    }\n",
       "\n",
       "    .dataframe tbody tr th {\n",
       "        vertical-align: top;\n",
       "    }\n",
       "\n",
       "    .dataframe thead th {\n",
       "        text-align: right;\n",
       "    }\n",
       "</style>\n",
       "<table border=\"1\" class=\"dataframe\">\n",
       "  <thead>\n",
       "    <tr style=\"text-align: right;\">\n",
       "      <th></th>\n",
       "      <th>wave_number</th>\n",
       "      <th>advisee_nyc_id</th>\n",
       "      <th>advisor_nyc_id</th>\n",
       "      <th>sessiontopic</th>\n",
       "    </tr>\n",
       "  </thead>\n",
       "  <tbody>\n",
       "    <tr>\n",
       "      <th>0</th>\n",
       "      <td>1</td>\n",
       "      <td>4723827.0</td>\n",
       "      <td>417687.0</td>\n",
       "      <td>none</td>\n",
       "    </tr>\n",
       "    <tr>\n",
       "      <th>1</th>\n",
       "      <td>1</td>\n",
       "      <td>253221.0</td>\n",
       "      <td>NaN</td>\n",
       "      <td>none</td>\n",
       "    </tr>\n",
       "    <tr>\n",
       "      <th>2</th>\n",
       "      <td>1</td>\n",
       "      <td>4868639.0</td>\n",
       "      <td>NaN</td>\n",
       "      <td>none</td>\n",
       "    </tr>\n",
       "    <tr>\n",
       "      <th>3</th>\n",
       "      <td>1</td>\n",
       "      <td>1784635.0</td>\n",
       "      <td>4018457.0</td>\n",
       "      <td>none</td>\n",
       "    </tr>\n",
       "    <tr>\n",
       "      <th>4</th>\n",
       "      <td>1</td>\n",
       "      <td>7987549.0</td>\n",
       "      <td>NaN</td>\n",
       "      <td>none</td>\n",
       "    </tr>\n",
       "  </tbody>\n",
       "</table>\n",
       "</div>"
      ],
      "text/plain": [
       "   wave_number  advisee_nyc_id  advisor_nyc_id sessiontopic\n",
       "0            1       4723827.0        417687.0         none\n",
       "1            1        253221.0             NaN         none\n",
       "2            1       4868639.0             NaN         none\n",
       "3            1       1784635.0       4018457.0         none\n",
       "4            1       7987549.0             NaN         none"
      ]
     },
     "execution_count": 7,
     "metadata": {},
     "output_type": "execute_result"
    }
   ],
   "source": [
    "matches_input1.head()"
   ]
  },
  {
   "cell_type": "markdown",
   "metadata": {},
   "source": [
    "<p><a name=\"matching intialization\"></a></p>\n",
    "### Load Data Into Algorithm\n",
    "\n",
    "Next we must load the data into the matching algorithm. \n",
    "\n",
    "**THE ORDER OF IN PUT IS IMPORTANT IT SHOULD BE**\n",
    "1. First the student file (users_students_input1.csv)\n",
    "2. Second the mentor file (users_prof_input1.csv)\n",
    "3. Matching data (matches_input1)"
   ]
  },
  {
   "cell_type": "code",
   "execution_count": 9,
   "metadata": {},
   "outputs": [],
   "source": [
    "algorithm=BBGMatching.bbg(users_students_input1,users_prof_input1,matches_input1)"
   ]
  },
  {
   "cell_type": "markdown",
   "metadata": {},
   "source": [
    "<p><a name=\"algorithm\"></a></p>\n",
    "### Run The Default Algorithm\n",
    "\n",
    "Simply type .match() and the end of the algorithm to begin running the algorithm with the default parameter"
   ]
  },
  {
   "cell_type": "code",
   "execution_count": 10,
   "metadata": {
    "scrolled": false
   },
   "outputs": [
    {
     "name": "stdout",
     "output_type": "stream",
     "text": [
      "matching has begun\n",
      "matching returning students\n",
      "matching students based on location\n",
      "matching students based on region\n",
      "almost done\n",
      "matching is done!\n",
      "----------------------------------------------------------------------------------------------------\n",
      "the average match rate for all matches was :0.8642144345367534\n",
      "----------------------------------------------------------------------------------------------------\n",
      "the top 5 matches were :\n",
      "136    0.883291\n",
      "260    0.883291\n",
      "407    0.883291\n",
      "593    0.883291\n",
      "76     0.883291\n",
      "Name: prob, dtype: float64\n",
      "----------------------------------------------------------------------------------------------------\n",
      "the bottom 5 matches were :\n",
      "331    0.821281\n",
      "374    0.821281\n",
      "279    0.821281\n",
      "277    0.821281\n",
      "382    0.821281\n",
      "Name: prob, dtype: float64\n",
      "----------------------------------------------------------------------------------------------------\n",
      "----------------------------------------------------------------------------------------------------\n",
      "time elapse: 95.46592593193054 seconds\n"
     ]
    },
    {
     "data": {
      "image/png": "[encoded data removed]",
      "text/plain": [
       "<matplotlib.figure.Figure at 0x1a08ee4588>"
      ]
     },
     "metadata": {},
     "output_type": "display_data"
    }
   ],
   "source": [
    "algorithm.match()"
   ]
  },
  {
   "cell_type": "markdown",
   "metadata": {},
   "source": [
    "After the algorithm is done running, we will obtain some summary statistics\n",
    "\n",
    "- the average match rate for all the matches, which in this case was .86\n",
    "- the match rate for the top 5 matches\n",
    "- the match rate for the bottom 5 matches\n",
    "- the time it took for the algorithm to run\n",
    "- a graph of the distribution of scores\n",
    "\n",
    "A csv file titled data will be downloaded in the folder where this code is running. This contains the match information"
   ]
  },
  {
   "cell_type": "markdown",
   "metadata": {},
   "source": [
    "<p><a name=\"Parameters\"></a></p>\n",
    "# Tuning Parameters\n",
    "- <a href=\"#weights\">Adjusting Weights</a><br>\n",
    "- <a href=\"#cutoff\">changing cutoff</a><br>\n",
    "- <a href=\"#matches\">pre-defined matches</a><br>\n",
    "\n",
    "The above algorithm was run with parameters based on insights from regression analyses, however, these parameters can be tuned to the discretion of the user. \n",
    "\n",
    "\n"
   ]
  },
  {
   "cell_type": "markdown",
   "metadata": {},
   "source": [
    "Before running a new match, we must first reload the data into the matching algorithm\n"
   ]
  },
  {
   "cell_type": "code",
   "execution_count": 25,
   "metadata": {
    "collapsed": true
   },
   "outputs": [],
   "source": [
    "algorithm=BBGMatching.bbg(users_students_input1,users_prof_input1,matches_input1)"
   ]
  },
  {
   "cell_type": "markdown",
   "metadata": {},
   "source": [
    "<p><a name=\"weights\"></a></p>\n",
    "### Matching Weights\n",
    "\n",
    "The matching algorithm is based on default weights from regression analyses. However, these can be changed by the user\n",
    "\n",
    "To see the default weights, type .coefficients() after the algorithm\n",
    "\n"
   ]
  },
  {
   "cell_type": "code",
   "execution_count": 26,
   "metadata": {},
   "outputs": [
    {
     "data": {
      "text/plain": [
       "{'extro': 0,\n",
       " 'ind_common': 0,\n",
       " 'ind_common_extro': 0,\n",
       " 'ind_common_intro': 0,\n",
       " 'ind_common_stud': 0,\n",
       " 'interc': 2.02397,\n",
       " 'intro': -1.25207,\n",
       " 'prof_experience_o': 0,\n",
       " 'stud_exp_prof': 0.30732,\n",
       " 'stud_experience_o': -0.6926,\n",
       " 'tech_common': -1.25752,\n",
       " 'tech_common_extro': 0,\n",
       " 'tech_common_intro': 0,\n",
       " 'tech_common_stud': 0.67054,\n",
       " 'topic_common': 0,\n",
       " 'topic_common_extro': 0,\n",
       " 'topic_common_intro': 0.90907,\n",
       " 'topic_common_stud': 0,\n",
       " 'word_count': 0}"
      ]
     },
     "execution_count": 26,
     "metadata": {},
     "output_type": "execute_result"
    }
   ],
   "source": [
    "algorithm.coefficients()"
   ]
  },
  {
   "cell_type": "markdown",
   "metadata": {},
   "source": [
    "\n",
    "The coefficients above are the weights for the matching algorithm that will run. Zero's indicate features that the model suggests are not important.\n",
    "\n",
    "These are a simplified description of what each weight means:\n",
    "- Extro: The effect of a student being an extrovert\n",
    "- ind_common: The effect of a student and mentor having a industry interest in common\n",
    "- ind_common_extro: The effect when a extroverted student has an industry in common with their mentor\n",
    "- ind_common_intro: The effect when a introverted student has an industry in common with their mentor\n",
    "- ind_common_stud: The effect when a student who has experience in computer science has an industry in common with their mentor\n",
    "- intercept: the intercept, please ignore\n",
    "- intro: The effect when a student is an introvert\n",
    "- prof_experience_o: the effect of having a mentor is more experienced in their industry\n",
    "- stud_exp_prof: the effect when an experienced student is matched with an experienced mentor\n",
    "- stud_experience_o: the effect when a student is more experienced in computer science\n",
    "- tech_common: the effect of having a tech interest in common\n",
    "- tech_common_extro: The effect when a extroverted student has an tech interest in common with their mentor\n",
    "- tech_common_intro: The effect when a introverted student has a tech interest in common with their mentor\n",
    "- tech_common_stud: The effect when a student who has experience in computer science has a tech interest in common with their mentor\n",
    "- topic_common: the effect of having a topic interest in common\n",
    "- topic_common_extro: The effect when a extroverted student has an topic interest in common with their mentor\n",
    "- topic_common_intro: The effect when a introverted student has a topic interest in common with their mentor\n",
    "- topic_common_stud: The effect when a student who has experience in computer science has a topic interest in common with their mentor\n",
    "\n",
    "So say, for the next match, among other things, you really want to focus on students and mentors having topic interests in common. You can change the weight of having a topic interest in common in the algorithm"
   ]
  },
  {
   "cell_type": "code",
   "execution_count": 14,
   "metadata": {},
   "outputs": [
    {
     "data": {
      "text/plain": [
       "{'extro': 0.1,\n",
       " 'ind_common': 0.21,\n",
       " 'ind_common_extro': 0,\n",
       " 'ind_common_intro': 0,\n",
       " 'ind_common_stud': 0,\n",
       " 'interc': 2.02397,\n",
       " 'intro': -1.25207,\n",
       " 'prof_experience_o': -0.3,\n",
       " 'stud_exp_prof': 0.30732,\n",
       " 'stud_experience_o': -0.6926,\n",
       " 'tech_common': -1.25752,\n",
       " 'tech_common_extro': 0,\n",
       " 'tech_common_intro': 0,\n",
       " 'tech_common_stud': 0.67054,\n",
       " 'topic_common': 0.75938,\n",
       " 'topic_common_extro': 0,\n",
       " 'topic_common_intro': 0.90907,\n",
       " 'topic_common_stud': 0,\n",
       " 'word_count': 0.01}"
      ]
     },
     "execution_count": 14,
     "metadata": {},
     "output_type": "execute_result"
    }
   ],
   "source": [
    "algorithm.coefficients(topic_common= .75938, extro=.1, prof_experience_o =-.3, ind_common=.21, word_count =.01)"
   ]
  },
  {
   "cell_type": "markdown",
   "metadata": {},
   "source": [
    "Above, I changed the weight of having a topic in common to the same as having a industry interest in common. Generally, I suggest if you change the weight of one variable, subtract the same amount from one or more other variables. You don't have to to this, but if you don't, the matching rate score will be inflated"
   ]
  },
  {
   "cell_type": "markdown",
   "metadata": {},
   "source": [
    "Now run the algorithm again\n",
    "\n",
    "**The new match will also be saved as data.csv. So if you ran previous algorithms, it will overwrite them. So please change the name of previous csv files if you don't want it overwritten**"
   ]
  },
  {
   "cell_type": "code",
   "execution_count": 15,
   "metadata": {},
   "outputs": [
    {
     "name": "stdout",
     "output_type": "stream",
     "text": [
      "matching has begun\n",
      "matching returning students\n",
      "matching students based on location\n",
      "matching students based on region\n",
      "almost done\n",
      "matching is done!\n",
      "----------------------------------------------------------------------------------------------------\n",
      "the average match rate for all matches was :0.905911615031504\n",
      "----------------------------------------------------------------------------------------------------\n",
      "the top 5 matches were :\n",
      "206    0.921680\n",
      "133    0.925763\n",
      "0      0.925763\n",
      "160    0.927125\n",
      "407    0.927798\n",
      "Name: prob, dtype: float64\n",
      "----------------------------------------------------------------------------------------------------\n",
      "the bottom 5 matches were :\n",
      "510    0.869260\n",
      "270    0.871516\n",
      "533    0.871516\n",
      "277    0.871516\n",
      "316    0.871516\n",
      "Name: prob, dtype: float64\n",
      "----------------------------------------------------------------------------------------------------\n",
      "----------------------------------------------------------------------------------------------------\n",
      "time elapse: 82.8292281627655 seconds\n"
     ]
    },
    {
     "data": {
      "image/png": "[encoded data removed]",
      "text/plain": [
       "<matplotlib.figure.Figure at 0x1a0a015278>"
      ]
     },
     "metadata": {},
     "output_type": "display_data"
    }
   ],
   "source": [
    "algorithm.match()"
   ]
  },
  {
   "cell_type": "markdown",
   "metadata": {},
   "source": [
    "<p><a name=\"cutoff\"></a></p>\n",
    "### Changing cutoff\n",
    "\n",
    "The second parameter to change is the cutoff. The algorithm matches each student sequentially after both the sequence of students and mentors is shuffled. With the default parameters, if a match between student and mentor exceeds .75, the algorithm will move on to the next match.  \n",
    "\n",
    "*Note: to return to default parameters load the data into the algorithm again. In this case, I want to run with the default settings, so I reload the data*"
   ]
  },
  {
   "cell_type": "code",
   "execution_count": 29,
   "metadata": {
    "collapsed": true
   },
   "outputs": [],
   "source": [
    "algorithm=BBGMatching.bbg(users_students_input1,users_prof_input1,matches_input1)"
   ]
  },
  {
   "cell_type": "code",
   "execution_count": 30,
   "metadata": {},
   "outputs": [
    {
     "name": "stdout",
     "output_type": "stream",
     "text": [
      "matching has begun\n",
      "matching returning students\n",
      "matching students based on location\n",
      "matching students based on region\n",
      "almost done\n",
      "matching is done!\n",
      "----------------------------------------------------------------------------------------------------\n",
      "the average match rate for all matches was :0.8642144345367534\n",
      "----------------------------------------------------------------------------------------------------\n",
      "the top 5 matches were :\n",
      "28     0.883291\n",
      "311    0.883291\n",
      "407    0.883291\n",
      "115    0.883291\n",
      "32     0.883291\n",
      "Name: prob, dtype: float64\n",
      "----------------------------------------------------------------------------------------------------\n",
      "the bottom 5 matches were :\n",
      "475    0.821281\n",
      "242    0.821281\n",
      "246    0.821281\n",
      "247    0.821281\n",
      "96     0.821281\n",
      "Name: prob, dtype: float64\n",
      "----------------------------------------------------------------------------------------------------\n",
      "----------------------------------------------------------------------------------------------------\n",
      "time elapse: 193.02205991744995 seconds\n"
     ]
    },
    {
     "data": {
      "image/png": "[encoded data removed]",
      "text/plain": [
       "<matplotlib.figure.Figure at 0x1a0ab58208>"
      ]
     },
     "metadata": {},
     "output_type": "display_data"
    }
   ],
   "source": [
    "algorithm.match(cutoff=.85)"
   ]
  },
  {
   "cell_type": "markdown",
   "metadata": {},
   "source": [
    "<p><a name=\"matches\"></a></p>\n",
    "### Pre-Defined Matches\n",
    "\n",
    "The final parameter you can change is giving the algorithm pre-defined matches. If you have a list of matches you want to have, simply insert these matches into the algorithm, and the new matches will be produced given these pre-defined conditions\n",
    "\n",
    "Insert a list of advisee IDs inside brackers and separated by commas into the advisee label. And in the same order and formate, insert the advisor IDs into the advisor label\n"
   ]
  },
  {
   "cell_type": "code",
   "execution_count": 31,
   "metadata": {
    "collapsed": true
   },
   "outputs": [],
   "source": [
    "algorithm=BBGMatching.bbg(users_students_input1,users_prof_input1,matches_input1)"
   ]
  },
  {
   "cell_type": "code",
   "execution_count": 32,
   "metadata": {},
   "outputs": [
    {
     "name": "stdout",
     "output_type": "stream",
     "text": [
      "matching has begun\n",
      "matching returning students\n",
      "matching students based on location\n",
      "matching students based on region\n",
      "almost done\n",
      "matching is done!\n",
      "----------------------------------------------------------------------------------------------------\n",
      "the average match rate for all matches was :0.8637471331747931\n",
      "----------------------------------------------------------------------------------------------------\n",
      "the top 5 matches were :\n",
      "233    0.883291\n",
      "34     0.883291\n",
      "57     0.883291\n",
      "68     0.883291\n",
      "110    0.883291\n",
      "Name: prob, dtype: float64\n",
      "----------------------------------------------------------------------------------------------------\n",
      "the bottom 5 matches were :\n",
      "0      0.750000\n",
      "1      0.750000\n",
      "2      0.750000\n",
      "221    0.821281\n",
      "436    0.821281\n",
      "Name: prob, dtype: float64\n",
      "----------------------------------------------------------------------------------------------------\n",
      "----------------------------------------------------------------------------------------------------\n",
      "time elapse: 93.352548122406 seconds\n"
     ]
    },
    {
     "data": {
      "image/png": "[encoded data removed]",
      "text/plain": [
       "<matplotlib.figure.Figure at 0x1a0aaf5b38>"
      ]
     },
     "metadata": {},
     "output_type": "display_data"
    }
   ],
   "source": [
    "algorithm.match(advisee= [2698590, 2698590,2235203], advisor= [8457095, 7915205, 9028177])"
   ]
  },
  {
   "cell_type": "markdown",
   "metadata": {},
   "source": [
    "All of these tuning parameters can be done in conjunction with one another.\n",
    "\n",
    "As a rule of thumbs:\n",
    "\n",
    "- increasing the cutoff will greatly increase the time it takes for the algorithm to run\n",
    "- increasing weights while not decreasing other weights will vastly decrease time. Conversely, decreasing weights without increase the weights of other conditions will increase time\n",
    "- pre-defined matches will only marginally increase time"
   ]
  },
  {
   "cell_type": "markdown",
   "metadata": {},
   "source": [
    "<p><a name=\"matrix\"></a></p>\n",
    "### Table of All Matches\n",
    "\n",
    "To create a table of all possible matches for each student, simply run the algorithm with .matrix() at the end. This will take at least an hour to run. But a matrix.csv file will be produced where a user can do some exploratory viewing of how a particular advisee and advisor will match\n",
    "\n",
    "\n"
   ]
  },
  {
   "cell_type": "code",
   "execution_count": null,
   "metadata": {
    "collapsed": true
   },
   "outputs": [],
   "source": [
    "algorithm=BBGMatching.bbg(users_students_input1,users_prof_input1,matches_input1)"
   ]
  },
  {
   "cell_type": "code",
   "execution_count": null,
   "metadata": {},
   "outputs": [],
   "source": [
    "algorithm.matrix()"
   ]
  },
  {
   "cell_type": "markdown",
   "metadata": {},
   "source": [
    "<p><a name=\"conclusion\"></a></p>\n",
    "### Conclusion"
   ]
  },
  {
   "cell_type": "markdown",
   "metadata": {},
   "source": [
    "This is a matching algorithm that matches students on several conditions:\n",
    "- advisee's are not matched with advisors from prior matches\n",
    "- advisee's are not matched with advisors from the same company from prior matches\n",
    "- advisee's are matched by location, then region\n",
    "- session topics are assigned such that previous session topics for advisees are not repeated and preferred topic session topic of both advisee's and advisor's are considered\n",
    "\n",
    "The matching algorithm aims to optimize the probability of an advisee scoring the session a 5. Criteria that the model uses to predict the session rating of a potential match are from the logistic regression. The default parameters are:\n",
    "- introvert (negative effect)\n",
    "- matching experienced students with experienced mentors (positive effect)\n",
    "- student previous experience in coding (negative effect)\n",
    "- tech interest in common (negative effect)\n",
    "- students with more experience being matched to a mentor with a tech interest in common (positive effect)\n",
    "- introverted students being matched to a mentor with a topic interest in common (positive effect)\n",
    "\n",
    "The matching algorithm seeks to provide flexibility to the user to make matches according to what they feel might be important. This includes:\n",
    "- The weights and direction of parameters can be changed\n",
    "- The cutoff for what defines a \"good\" match can be adjusted\n",
    "- Pre-defined matches can be set prior to the algorithm running\n",
    "\n",
    "In closing, this matching algorithm attempts to optmize matches based on the probability of the session being rated a 5 by the advisee. This relies heavily on the results from the logistic regression; however, with a limited sample size, the findings that can be drawn from the analyses is limited. The power of the regression analyses grows in proportion with the growth of the data BBG gathers. So as BBG continues to refine their survey and collect more data, I hope this algorithm also grows in the insights it can deliver.\n",
    "\n",
    "On a final note, there is random componenent to the optimization algorithm, so the results will not be the same every time it is run. Please keep that in mind!\n",
    "\n"
   ]
  }
 ],
 "metadata": {
  "kernelspec": {
   "display_name": "Python 3",
   "language": "python",
   "name": "python3"
  },
  "language_info": {
   "codemirror_mode": {
    "name": "ipython",
    "version": 3
   },
   "file_extension": ".py",
   "mimetype": "text/x-python",
   "name": "python",
   "nbconvert_exporter": "python",
   "pygments_lexer": "ipython3",
   "version": "3.6.3"
  }
 },
 "nbformat": 4,
 "nbformat_minor": 2
}
